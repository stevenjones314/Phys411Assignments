{
 "metadata": {
  "name": "",
  "signature": "sha256:ed19daeda00ffeb48c84849e1671173fe795a676c772b8ca7661099120c48a28"
 },
 "nbformat": 3,
 "nbformat_minor": 0,
 "worksheets": [
  {
   "cells": [
    {
     "cell_type": "heading",
     "level": 1,
     "metadata": {},
     "source": [
      "Assignment 8"
     ]
    },
    {
     "cell_type": "heading",
     "level": 2,
     "metadata": {},
     "source": [
      "Q1 Sampling theorem and aliasing"
     ]
    },
    {
     "cell_type": "markdown",
     "metadata": {},
     "source": [
      "1. Create a band-limited white noise time series with $N=1000$ entries, $dt=0.1s$, but with all frequencies greater than 0.5Hz filtered. Plot the power spectrum to make sure you got it correctly..."
     ]
    },
    {
     "cell_type": "code",
     "collapsed": false,
     "input": [],
     "language": "python",
     "metadata": {},
     "outputs": [],
     "prompt_number": 0
    },
    {
     "cell_type": "markdown",
     "metadata": {},
     "source": [
      "2. Now decimate by a factor of 4 to get a time series sampled at 2.5Hz. Show that you can recover the 10Hz times eries using the Sampling  Theorem."
     ]
    },
    {
     "cell_type": "code",
     "collapsed": false,
     "input": [],
     "language": "python",
     "metadata": {},
     "outputs": [],
     "prompt_number": 0
    },
    {
     "cell_type": "markdown",
     "metadata": {},
     "source": [
      "Comment"
     ]
    },
    {
     "cell_type": "markdown",
     "metadata": {},
     "source": [
      "3. Now decimate by a factor of 40 to get a time series sampled at 0.25Hz. Show that you cannot recover the 10Hz time series using the Sampling Theorem."
     ]
    },
    {
     "cell_type": "code",
     "collapsed": false,
     "input": [],
     "language": "python",
     "metadata": {},
     "outputs": [],
     "prompt_number": 0
    },
    {
     "cell_type": "markdown",
     "metadata": {},
     "source": [
      "Comment"
     ]
    },
    {
     "cell_type": "heading",
     "level": 2,
     "metadata": {},
     "source": [
      "Q2 Cubic Spline"
     ]
    },
    {
     "cell_type": "markdown",
     "metadata": {},
     "source": [
      "Using the data below..."
     ]
    },
    {
     "cell_type": "code",
     "collapsed": false,
     "input": [
      "t = np.array([0.,2.5,2.7,3.4,4.2,6.5,9.0])\n",
      "x= np.cos(t*2*pi/3)"
     ],
     "language": "python",
     "metadata": {},
     "outputs": [],
     "prompt_number": 1
    },
    {
     "cell_type": "markdown",
     "metadata": {},
     "source": [
      "1 Perform a cubic spline interpolation onto an even grid from 0 to 9.0 by \n",
      "\n",
      "1. creating the matric from the notes \n",
      "\n",
      "2. inverting and solving for the cubic co-efficients \n",
      "\n",
      "3. using those polynomials to evaluate the interpolated data. Compare with using scipy.interpolate.interp1d.\n",
      "\n",
      "Comment on any similarities or differences between using the two results."
     ]
    },
    {
     "cell_type": "code",
     "collapsed": false,
     "input": [],
     "language": "python",
     "metadata": {},
     "outputs": [],
     "prompt_number": 1
    },
    {
     "cell_type": "markdown",
     "metadata": {},
     "source": [
      "Comment"
     ]
    },
    {
     "cell_type": "code",
     "collapsed": false,
     "input": [],
     "language": "python",
     "metadata": {},
     "outputs": []
    }
   ],
   "metadata": {}
  }
 ]
}